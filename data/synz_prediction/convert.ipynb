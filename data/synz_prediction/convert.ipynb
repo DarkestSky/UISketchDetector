{
 "cells": [
  {
   "cell_type": "code",
   "execution_count": 1,
   "metadata": {},
   "outputs": [],
   "source": [
    "import torch"
   ]
  },
  {
   "cell_type": "markdown",
   "metadata": {},
   "source": [
    "由于 synz-detector 与 vl-bert-generator 使用的环境不同，torch 版本差异较大，保存的 pth 文件需要经过转换\n",
    "\n",
    "需要使用 SynZ 的环境（torch 版本较高）执行本文件内容，目的是不使用低版本不支持的 zipfile\n",
    "\n",
    "内容可以整合到 SynZ 中保存的部分"
   ]
  },
  {
   "cell_type": "code",
   "execution_count": 2,
   "metadata": {},
   "outputs": [],
   "source": [
    "pred_train_path = './train.pth'\n",
    "state_dict = torch.load(pred_train_path)\n",
    "torch.save(state_dict, './train_fix.pth', _use_new_zipfile_serialization=False)"
   ]
  },
  {
   "cell_type": "code",
   "execution_count": 3,
   "metadata": {},
   "outputs": [],
   "source": [
    "pred_val_path = './val.pth'\n",
    "state_dict = torch.load(pred_val_path)\n",
    "torch.save(state_dict, './val_fix.pth', _use_new_zipfile_serialization=False)"
   ]
  },
  {
   "cell_type": "code",
   "execution_count": null,
   "metadata": {},
   "outputs": [],
   "source": [
    "pred_test_path = './test.pth'\n",
    "state_dict = torch.load(pred_test_path)\n",
    "torch.save(state_dict, './test_fix.pth', _use_new_zipfile_serialization=False)"
   ]
  }
 ],
 "metadata": {
  "interpreter": {
   "hash": "60a779a5c1eec3fa865ba27e79bb36abf6efe66d41ecfec16e3587a33034a6f0"
  },
  "kernelspec": {
   "display_name": "Python 3.8.13 ('synz')",
   "language": "python",
   "name": "python3"
  },
  "language_info": {
   "codemirror_mode": {
    "name": "ipython",
    "version": 3
   },
   "file_extension": ".py",
   "mimetype": "text/x-python",
   "name": "python",
   "nbconvert_exporter": "python",
   "pygments_lexer": "ipython3",
   "version": "3.8.13"
  },
  "orig_nbformat": 4
 },
 "nbformat": 4,
 "nbformat_minor": 2
}
